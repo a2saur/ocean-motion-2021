{
 "cells": [
  {
   "cell_type": "markdown",
   "metadata": {},
   "source": [
    "Let's start with a 2d numpy array:"
   ]
  },
  {
   "cell_type": "code",
   "execution_count": 28,
   "metadata": {},
   "outputs": [],
   "source": [
    "import numpy as np"
   ]
  },
  {
   "cell_type": "code",
   "execution_count": 29,
   "metadata": {},
   "outputs": [],
   "source": [
    "a = np.arange(0,18).reshape(6,3)*8"
   ]
  },
  {
   "cell_type": "code",
   "execution_count": 30,
   "metadata": {},
   "outputs": [
    {
     "data": {
      "text/plain": [
       "array([[  0,   8,  16],\n",
       "       [ 24,  32,  40],\n",
       "       [ 48,  56,  64],\n",
       "       [ 72,  80,  88],\n",
       "       [ 96, 104, 112],\n",
       "       [120, 128, 136]])"
      ]
     },
     "execution_count": 30,
     "metadata": {},
     "output_type": "execute_result"
    }
   ],
   "source": [
    "a "
   ]
  },
  {
   "cell_type": "markdown",
   "metadata": {},
   "source": [
    "This can be thought of as an x and y coordinate system:\n",
    "\n",
    "<img src=\"https://raw.githubusercontent.com/madesai22/ocean-motion-2021/main/images/IMG_0013.jpg \" alt=\"alt text\" width=300 height=300>\n"
   ]
  },
  {
   "cell_type": "markdown",
   "metadata": {},
   "source": [
    "Thinking about it in this way, we can access different elements of the array with indicies. For example, 80 is at the point 3,1 (as marked above):"
   ]
  },
  {
   "cell_type": "code",
   "execution_count": 46,
   "metadata": {},
   "outputs": [
    {
     "data": {
      "text/plain": [
       "80"
      ]
     },
     "execution_count": 46,
     "metadata": {},
     "output_type": "execute_result"
    }
   ],
   "source": [
    "a[3,1]\n",
    "# try some here as well:\n"
   ]
  },
  {
   "cell_type": "markdown",
   "metadata": {},
   "source": [
    "If we wanted to print out every element in this numpy array, we might start with the first row a[0,:] and go through it item by item:"
   ]
  },
  {
   "cell_type": "code",
   "execution_count": 42,
   "metadata": {},
   "outputs": [
    {
     "data": {
      "text/plain": [
       "array([ 0,  8, 16])"
      ]
     },
     "execution_count": 42,
     "metadata": {},
     "output_type": "execute_result"
    }
   ],
   "source": [
    "a[0,:]"
   ]
  },
  {
   "cell_type": "code",
   "execution_count": 45,
   "metadata": {},
   "outputs": [
    {
     "name": "stdout",
     "output_type": "stream",
     "text": [
      "0\n",
      "8\n",
      "16\n"
     ]
    }
   ],
   "source": [
    "print(a[0,0])\n",
    "print(a[0,1])\n",
    "print(a[0,2])"
   ]
  },
  {
   "cell_type": "markdown",
   "metadata": {},
   "source": [
    "To go through the whole array, we would then go to the next row, a[1,:]. This would get tedius for a bigger array. Instead, we can use loops. Let's look at a loop that will print all of the rows. Next to the row, I am also printing the value for i when the loop is executed. You can see that each time the loop is executed, i increases and is being used to **index** the array:"
   ]
  },
  {
   "cell_type": "code",
   "execution_count": 48,
   "metadata": {},
   "outputs": [
    {
     "name": "stdout",
     "output_type": "stream",
     "text": [
      "[ 0  8 16] 0\n",
      "[24 32 40] 1\n",
      "[48 56 64] 2\n",
      "[72 80 88] 3\n",
      "[ 96 104 112] 4\n",
      "[120 128 136] 5\n"
     ]
    }
   ],
   "source": [
    "for i in range(0,6):\n",
    "    print(a[i,:], i)"
   ]
  },
  {
   "cell_type": "markdown",
   "metadata": {},
   "source": [
    "To get the elements from within each row, we need an additional loop to index the column for each row: "
   ]
  },
  {
   "cell_type": "code",
   "execution_count": 52,
   "metadata": {},
   "outputs": [
    {
     "name": "stdout",
     "output_type": "stream",
     "text": [
      "0 0 0\n",
      "8 0 1\n",
      "16 0 2\n",
      "24 1 0\n",
      "32 1 1\n",
      "40 1 2\n",
      "48 2 0\n",
      "56 2 1\n",
      "64 2 2\n",
      "72 3 0\n",
      "80 3 1\n",
      "88 3 2\n",
      "96 4 0\n",
      "104 4 1\n",
      "112 4 2\n",
      "120 5 0\n",
      "128 5 1\n",
      "136 5 2\n"
     ]
    }
   ],
   "source": [
    "for i in range(0,6):\n",
    "    for j in range(0,3):\n",
    "        print(a[i,j],i,j)"
   ]
  },
  {
   "cell_type": "markdown",
   "metadata": {},
   "source": [
    "You can cross reference this with our image of our grid: <img src=\"https://raw.githubusercontent.com/madesai22/ocean-motion-2021/main/images/IMG_0013.jpg \" alt=\"alt text\" width=300 height=300>"
   ]
  },
  {
   "cell_type": "markdown",
   "metadata": {},
   "source": []
  },
  {
   "cell_type": "code",
   "execution_count": null,
   "metadata": {},
   "outputs": [],
   "source": []
  }
 ],
 "metadata": {
  "kernelspec": {
   "display_name": "Python 3",
   "language": "python",
   "name": "python3"
  },
  "language_info": {
   "codemirror_mode": {
    "name": "ipython",
    "version": 3
   },
   "file_extension": ".py",
   "mimetype": "text/x-python",
   "name": "python",
   "nbconvert_exporter": "python",
   "pygments_lexer": "ipython3",
   "version": "3.6.12"
  }
 },
 "nbformat": 4,
 "nbformat_minor": 4
}
