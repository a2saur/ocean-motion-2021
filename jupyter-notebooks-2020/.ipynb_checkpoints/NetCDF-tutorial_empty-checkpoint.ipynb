{
 "cells": [
  {
   "cell_type": "markdown",
   "metadata": {},
   "source": [
    "## **Exploring netCDFs** \n",
    "adapted from [Katy Abbot](https://github.com/amnh/BridgeUP-STEM-Oceans-Six/blob/master/jupyter-notebooks/netCDF_practice.ipynb)"
   ]
  },
  {
   "cell_type": "markdown",
   "metadata": {},
   "source": [
    "![image](https://camo.githubusercontent.com/77e36a1f8169f7da010f7c1615fe39ab88f190ea/687474703a2f2f6465736b746f702e6172636769732e636f6d2f656e2f6172636d61702f31302e332f6d616e6167652d646174612f6e65746364662f475549442d44383732413443332d373439452d343135392d413643302d4642364433423437433544382d7765622e676966)\n",
    "What are netCDF files? The acronym stands for Network Common Data Form, and they're a way of formatting data that makes it easy for other scientists to share and read data on different computers, with different operating systems, with different software etc... without running into issues or struggling to understand someone else's work!"
   ]
  },
  {
   "cell_type": "markdown",
   "metadata": {},
   "source": [
    "netCDF files are in what we call an array-oriented dataset. Data is stored in arrays, which are like grids, and can be accessed by selecting the appropriate row and column. Here's an example of a 2D array:"
   ]
  },
  {
   "cell_type": "markdown",
   "metadata": {},
   "source": [
    "<img src=\"https://camo.githubusercontent.com/b525fcfb6792a87d5a15b0b1c52fc39aff739722/68747470733a2f2f7777772e6479636c617373726f6f6d2e636f6d2f696d6167652f746f7069632f632f32642d61727261792f32642d61727261792e6a7067\" width=\"600\"/>"
   ]
  },
  {
   "cell_type": "markdown",
   "metadata": {},
   "source": [
    "With netCDF files, our rows, columns, and other indices are called dimensions, and they can take values such as latitude, longitude and time."
   ]
  },
  {
   "cell_type": "markdown",
   "metadata": {},
   "source": [
    "\n",
    "<img src=\"https://simulatingcomplexity.files.wordpress.com/2014/11/netcdf-file-structure.png\" width=\"400\"/>\n",
    "\n",
    "Let's try to explore this file format with an actual file. Make sure you have the file **n-atlantic-t0.nc** somewhere you will be able to find it but **not in your GitHub repository (not in ocean-motion)**. This is the data we are going to use for our data processing. "
   ]
  },
  {
   "cell_type": "markdown",
   "metadata": {},
   "source": [
    "First, we are going to explore the file in Terminal.\n",
    "\n",
    "* In Terminal, type **ncdump -h n-atlantic-t0.nc** to see all the headers for the file. \n",
    "\n",
    "* Type **ncdump -v header-title n-atlantic-t0.nc**, where header-title is the header you want to look at, to see the data in the file under that header.\n",
    "    \n",
    "* Try exploring the files by searching different headers (time, lattitude, etc.)"
   ]
  },
  {
   "cell_type": "markdown",
   "metadata": {},
   "source": [
    "Now we are going to explore using python:  Our first step is to import netCDF4. \n",
    "\n",
    "Then we are going to load the dataset using the ``Dataset()`` function, one of the main tools we use for viewing netCDF files. The ``r`` in the function tells the function that you are opening the file to read it."
   ]
  },
  {
   "cell_type": "code",
   "execution_count": 2,
   "metadata": {},
   "outputs": [
    {
     "ename": "FileNotFoundError",
     "evalue": "[Errno 2] No such file or directory: b'/Users/brownscholar/Desktop/A2 Internship/n-atlantic-t0.nc'",
     "output_type": "error",
     "traceback": [
      "\u001b[0;31m---------------------------------------------------------------------------\u001b[0m",
      "\u001b[0;31mFileNotFoundError\u001b[0m                         Traceback (most recent call last)",
      "\u001b[0;32m<ipython-input-2-a439dba7e156>\u001b[0m in \u001b[0;36m<module>\u001b[0;34m\u001b[0m\n\u001b[1;32m      1\u001b[0m \u001b[0;32mfrom\u001b[0m \u001b[0mnetCDF4\u001b[0m \u001b[0;32mimport\u001b[0m \u001b[0mDataset\u001b[0m \u001b[0;31m#import Dataset from the netCDF4 package\u001b[0m\u001b[0;34m\u001b[0m\u001b[0;34m\u001b[0m\u001b[0m\n\u001b[0;32m----> 2\u001b[0;31m \u001b[0mmy_data\u001b[0m \u001b[0;34m=\u001b[0m \u001b[0mDataset\u001b[0m\u001b[0;34m(\u001b[0m\u001b[0;34mr'/Users/brownscholar/Desktop/A2 Internship/n-atlantic-t0.nc'\u001b[0m\u001b[0;34m)\u001b[0m \u001b[0;31m#replace with pathname for your computer\u001b[0m\u001b[0;34m\u001b[0m\u001b[0;34m\u001b[0m\u001b[0m\n\u001b[0m",
      "\u001b[0;32mnetCDF4/_netCDF4.pyx\u001b[0m in \u001b[0;36mnetCDF4._netCDF4.Dataset.__init__\u001b[0;34m()\u001b[0m\n",
      "\u001b[0;32mnetCDF4/_netCDF4.pyx\u001b[0m in \u001b[0;36mnetCDF4._netCDF4._ensure_nc_success\u001b[0;34m()\u001b[0m\n",
      "\u001b[0;31mFileNotFoundError\u001b[0m: [Errno 2] No such file or directory: b'/Users/brownscholar/Desktop/A2 Internship/n-atlantic-t0.nc'"
     ]
    }
   ],
   "source": [
    "from netCDF4 import Dataset #import Dataset from the netCDF4 package\n",
    "my_data = Dataset(r'/Users/brownscholar/Desktop/A2 Internship/n-atlantic-t0.nc') #replace with pathname for your computer\n"
   ]
  },
  {
   "cell_type": "code",
   "execution_count": null,
   "metadata": {},
   "outputs": [],
   "source": [
    "print(my_data) #What output do you see when you run this command?"
   ]
  },
  {
   "cell_type": "markdown",
   "metadata": {},
   "source": [
    "Note that we've now created an object, called my_data, that we can use to access different aspects of the file. We'll use the dot notation (i.e. ``my_data.blahblahblah``) to access different parts of the data.\n",
    "\n",
    "Let's find out more about this dataset. We'll look at the \"metadata,\" which is basically data about the data. \n",
    "\n",
    "Scientists use this to explain how the data was acquired or made, how old it is, who to contact with questions etc. First, we'll look at the dataset's \"global attributes,\" which can be accessed by calling ncattrs (shorthand for netcdf attributes)."
   ]
  },
  {
   "cell_type": "code",
   "execution_count": null,
   "metadata": {},
   "outputs": [],
   "source": [
    "my_data.ncattrs()"
   ]
  },
  {
   "cell_type": "markdown",
   "metadata": {},
   "source": [
    "To look at one of these, type in the name of the dataset variable, and add a period (.) and the name of the attribute you want to look at."
   ]
  },
  {
   "cell_type": "code",
   "execution_count": null,
   "metadata": {},
   "outputs": [],
   "source": [
    "print(my_data.title)\n",
    "\n",
    "# add two here"
   ]
  },
  {
   "cell_type": "markdown",
   "metadata": {},
   "source": [
    "You can access the dimensions of the dataset by calling **my_data.dimensions.** Notice that the output is a dictionary. We can see the \"keys,\" or dimension names, with **my_data.dimensions.keys()**"
   ]
  },
  {
   "cell_type": "code",
   "execution_count": null,
   "metadata": {},
   "outputs": [],
   "source": [
    "print(my_data.dimensions)\n",
    "print(my_data.dimensions.keys())"
   ]
  },
  {
   "cell_type": "markdown",
   "metadata": {},
   "source": [
    "If you want to see a specific dimension, you can do so by adding brackets and the dimension name in quotes. i.e. **my_data.dimensions['time']**"
   ]
  },
  {
   "cell_type": "code",
   "execution_count": null,
   "metadata": {},
   "outputs": [],
   "source": [
    "print(my_data.dimensions['time'])\n",
    "print(my_data.dimensions['latitude'])"
   ]
  },
  {
   "cell_type": "markdown",
   "metadata": {},
   "source": [
    "\n",
    "We can also access the variables of our dataset by typing dataset.variables"
   ]
  },
  {
   "cell_type": "code",
   "execution_count": null,
   "metadata": {},
   "outputs": [],
   "source": [
    "print(my_data.variables, \"\\n \\n\")  #\"\\n\" creates a new empty line so you can separate your output\n",
    "\n"
   ]
  },
  {
   "cell_type": "markdown",
   "metadata": {},
   "source": [
    "This is kind of too much information, right? To just look at the names of the variables, we can use ``.variables.keys()``:"
   ]
  },
  {
   "cell_type": "code",
   "execution_count": null,
   "metadata": {},
   "outputs": [],
   "source": [
    "print(my_data.variables.keys())"
   ]
  },
  {
   "cell_type": "markdown",
   "metadata": {},
   "source": [
    "## looking at one variable + its attributes: \n",
    "These variables have a lot more information, right? Let's look at just one variable: latitude. Inspect it by typing **my_data.variables['latitude']**\n"
   ]
  },
  {
   "cell_type": "code",
   "execution_count": null,
   "metadata": {},
   "outputs": [],
   "source": [
    "my_data.variables['latitude']"
   ]
  },
  {
   "cell_type": "markdown",
   "metadata": {},
   "source": [
    "How many different attributes can you identify? (standard_name, long_name, cell_methods, _FillValue, missing_value, original_name, original_units, history, current shape). Look at the second line. It gives the name of the variable, and it also lists three names in parentheses after it. What do you think those names signify?\n",
    "\n",
    "## looking at a specific attribute:\n",
    "We can access any one of these attributes by calling it directly. Just add a period at the end of your call to a variable and add in the attribute name."
   ]
  },
  {
   "cell_type": "code",
   "execution_count": null,
   "metadata": {},
   "outputs": [],
   "source": [
    "print(my_data.variables['latitude'].long_name)\n",
    "# I got 'long_name' from the list of attributes above\n",
    "# other examples are 'unit_long', 'units', 'valid min', and 'valid max'. "
   ]
  },
  {
   "cell_type": "markdown",
   "metadata": {},
   "source": [
    "You may be wondering: Where's the actual data?? So far, we've learning about what variables and dimensions are in this dataset, but we haven't actually seen any numbers or values.\n",
    "\n",
    "Let's look at the latitude and longitude values. To do so, you'll call on a variable (i.e. ``my_data.variables['longitude']``, as above), but you'll add ``[:]`` after it to tell the computer that you want to see the numpy array."
   ]
  },
  {
   "cell_type": "code",
   "execution_count": null,
   "metadata": {},
   "outputs": [],
   "source": [
    "print(\"latitude: \", my_data.variables['latitude'][:]) #print the latitude values, and then add a line break to distinguish from longitude\n"
   ]
  },
  {
   "cell_type": "markdown",
   "metadata": {},
   "source": [
    "Let's look at some attributes and data of another variable. From the variables in ``my_data.variables.keys()`` pick another variable, print all the attributes, print some specific attributes, and print the data in that variable. "
   ]
  },
  {
   "cell_type": "code",
   "execution_count": null,
   "metadata": {},
   "outputs": [],
   "source": [
    "# pick a variable and print all the atributes here:\n"
   ]
  },
  {
   "cell_type": "code",
   "execution_count": null,
   "metadata": {},
   "outputs": [],
   "source": [
    "# print a few specific attributes here: \n"
   ]
  },
  {
   "cell_type": "code",
   "execution_count": null,
   "metadata": {},
   "outputs": [],
   "source": [
    "# print the data in that variable here: \n"
   ]
  },
  {
   "cell_type": "markdown",
   "metadata": {},
   "source": [
    "For the variable you chose, try to understand what it is, and what the meanings of the attributes and data are. "
   ]
  },
  {
   "cell_type": "markdown",
   "metadata": {},
   "source": [
    "## 👉netCDF file cheat sheet👈\n",
    "[This tutorial](http://www.ceda.ac.uk/static/media/uploads/ncas-reading-2015/10_read_netcdf_python.pdf) was written in Python 2.7, so the print command is slightly different, but it's a helpful read to understand how these files work.\n",
    "\n",
    "Addditionally:\n",
    "1. Import the tools to open a dataset: **from netCDF4 import Dataset**\n",
    "2. Open a dataset: **dataset = Dataset(r'filename.nc')**\n",
    "3. View the dataset's attributes: **dataset.ncattrs()**\n",
    "4. Access a specific attribute: **dataset.attribute_name**\n",
    "5. View the dataset's dimensions: **dataset.dimensions**\n",
    "6. View a specific dimension: **dataset.dimensions[ 'name of dimension' ]**\n",
    "7. View the dataset's variables: **dataset.variables**\n",
    "8. View a specific variable: **dataset.variables[ 'name of variable' ]**\n",
    "9. See a variable's values: **dataset.variables[ 'name of variable' ][ : ]**"
   ]
  },
  {
   "cell_type": "code",
   "execution_count": null,
   "metadata": {},
   "outputs": [],
   "source": []
  }
 ],
 "metadata": {
  "kernelspec": {
   "display_name": "Python 3",
   "language": "python",
   "name": "python3"
  },
  "language_info": {
   "codemirror_mode": {
    "name": "ipython",
    "version": 3
   },
   "file_extension": ".py",
   "mimetype": "text/x-python",
   "name": "python",
   "nbconvert_exporter": "python",
   "pygments_lexer": "ipython3",
   "version": "3.8.5"
  }
 },
 "nbformat": 4,
 "nbformat_minor": 2
}
